{
 "cells": [
  {
   "cell_type": "markdown",
   "metadata": {},
   "source": [
    "# Map, Filter, Reduce, Lambda & Recursion"
   ]
  },
  {
   "cell_type": "markdown",
   "metadata": {},
   "source": [
    "## Tasks Today:\n",
    "\n",
    "1) <b>Lambda Functions</b> <br>\n",
    " &nbsp;&nbsp;&nbsp;&nbsp; a) Syntax <br>\n",
    " &nbsp;&nbsp;&nbsp;&nbsp; b) Saving to a Variable <br>\n",
    " &nbsp;&nbsp;&nbsp;&nbsp; c) Multiple Inputs <br>\n",
    " &nbsp;&nbsp;&nbsp;&nbsp; d) Passing a Lambda into a Function <br>\n",
    " &nbsp;&nbsp;&nbsp;&nbsp; e) Returning a Lambda from a Function <br>\n",
    " &nbsp;&nbsp;&nbsp;&nbsp; f) In-Class Exercise #1 <br>\n",
    "2) <b>Map</b> <br>\n",
    " &nbsp;&nbsp;&nbsp;&nbsp; a) Syntax <br>\n",
    " &nbsp;&nbsp;&nbsp;&nbsp; b) Using Lambda's with Map <br>\n",
    " &nbsp;&nbsp;&nbsp;&nbsp; c) In-Class Exercise #2 <br>\n",
    "3) <b>Filter</b> <br>\n",
    " &nbsp;&nbsp;&nbsp;&nbsp; a) Syntax <br>\n",
    " &nbsp;&nbsp;&nbsp;&nbsp; b) Using Lambda's with Filter <br>\n",
    " &nbsp;&nbsp;&nbsp;&nbsp; c) In-Class Exercise #3 <br>\n",
    "4) <b>Reduce</b> <br>\n",
    " &nbsp;&nbsp;&nbsp;&nbsp; a) Syntax <br>\n",
    " &nbsp;&nbsp;&nbsp;&nbsp; b) Using Lambda's with Reduce <br>\n",
    " &nbsp;&nbsp;&nbsp;&nbsp; c) In-Class Exercise #4 <br>\n",
    "5) <b>Recursion</b> <br>\n",
    " &nbsp;&nbsp;&nbsp;&nbsp; a) Implementing a Base <br>\n",
    " &nbsp;&nbsp;&nbsp;&nbsp; b) Writing a Factorial Function <br>\n",
    " &nbsp;&nbsp;&nbsp;&nbsp; c) In-Class Exercise #5 <br>\n",
    "6) <b>Generators & Iterators</b> <br>\n",
    " &nbsp;&nbsp;&nbsp;&nbsp; a) Yield Keyword <br>\n",
    " &nbsp;&nbsp;&nbsp;&nbsp; b) Inifinite Generator <br>\n",
    " &nbsp;&nbsp;&nbsp;&nbsp; c) In-Class Exercise #6 <br>\n",
    "7) <b>Exercises</b> <br>\n",
    " &nbsp;&nbsp;&nbsp;&nbsp; a) Exercise #1 - Filtering Empty Strings <br>\n",
    " &nbsp;&nbsp;&nbsp;&nbsp; b) Exercise #2 - Sorting with Last Name <br>\n",
    " &nbsp;&nbsp;&nbsp;&nbsp; c) Exercise #3 - Conversion to Farhenheit <br>\n",
    " &nbsp;&nbsp;&nbsp;&nbsp; d) Exercise #4 - Fibonacci Sequence <br>"
   ]
  },
  {
   "cell_type": "markdown",
   "metadata": {},
   "source": [
    "## Lambda Functions <br>\n",
    "<p>Lambda functions... or \"Anonymous Functions\" are referring to inline functions with no name. The keyword lambda denotes the no name function, and executes within a single line. Without saving it to a variable; however, it is not able to be used, unless passed in either as a paramater or within list comprehension.<br>Written as \"(keyword lambda) (one or more inputs) (colon) (function to be executed)\"</p>"
   ]
  },
  {
   "cell_type": "markdown",
   "metadata": {},
   "source": [
    "#### Syntax"
   ]
  },
  {
   "cell_type": "code",
   "execution_count": 3,
   "metadata": {},
   "outputs": [
    {
     "name": "stdout",
     "output_type": "stream",
     "text": [
      "6\n"
     ]
    }
   ],
   "source": [
    "# lambda parameter: expression\n",
    "# anonymous functions\n",
    "lambda num: num + 1\n",
    "# save to variable\n",
    "# param defined in this = num\n",
    "add_one = lambda num: num + 1\n",
    "\n",
    "print(add_one(5))"
   ]
  },
  {
   "cell_type": "markdown",
   "metadata": {},
   "source": [
    "#### Multiple Parameters\n"
   ]
  },
  {
   "cell_type": "code",
   "execution_count": 5,
   "metadata": {},
   "outputs": [
    {
     "name": "stdout",
     "output_type": "stream",
     "text": [
      "30\n"
     ]
    }
   ],
   "source": [
    "# same as:\n",
    "# def funMultiply(a,b):\n",
    "#   return a * b\n",
    "\n",
    "multiply = lambda x,y: x*y\n",
    "\n",
    "print(multiply(6,5))"
   ]
  },
  {
   "cell_type": "markdown",
   "metadata": {},
   "source": [
    "#### Passing a Lambda into a Function"
   ]
  },
  {
   "cell_type": "code",
   "execution_count": 9,
   "metadata": {},
   "outputs": [
    {
     "data": {
      "text/plain": [
       "9"
      ]
     },
     "execution_count": 9,
     "metadata": {},
     "output_type": "execute_result"
    }
   ],
   "source": [
    "def thisFunc(num):\n",
    "    # returns a function, recieves an argument num, creates a varioable for when we\n",
    "    # call the lambda function \n",
    "    return lambda lam_num: lam_num * num\n",
    "\n",
    "# doubler is putting num as param, doubler becomes a lambda function \n",
    "# setting the doubler variable sets the lambda function \n",
    "doubler = thisFunc(2)\n",
    "# above is same as below\n",
    "doubler2 = lambda lam_num: lam_num * 2\n",
    "\n",
    "# calling the lambda function after setting the lam_num * 2\n",
    "doubler(3)\n",
    "tripler = thisFunc(3)\n",
    "tripler(3)"
   ]
  },
  {
   "cell_type": "markdown",
   "metadata": {},
   "source": [
    "#### Returning a Lambda from a Function"
   ]
  },
  {
   "cell_type": "code",
   "execution_count": null,
   "metadata": {},
   "outputs": [],
   "source": [
    "# see above"
   ]
  },
  {
   "attachments": {},
   "cell_type": "markdown",
   "metadata": {},
   "source": [
    "#### If Statements within Lambdas (Ternary Operator)"
   ]
  },
  {
   "cell_type": "code",
   "execution_count": 11,
   "metadata": {},
   "outputs": [
    {
     "data": {
      "text/plain": [
       "False"
      ]
     },
     "execution_count": 11,
     "metadata": {},
     "output_type": "execute_result"
    }
   ],
   "source": [
    "# essentially an if statement, but condensed and returns a boolean\n",
    "# this specific use case, returns a boolean\n",
    "# essentially one lining:\n",
    "# even_nums(num):\n",
    "    # if num % 2 == 0:\n",
    "    #   return True\n",
    "    # else:\n",
    "    #   return False\n",
    "even_nums = lambda num: num % 2 == 0\n",
    "\n",
    "even_nums(8)\n",
    "even_nums(7)"
   ]
  },
  {
   "cell_type": "markdown",
   "metadata": {},
   "source": [
    "#### In-Class Exercise #1 <br>\n",
    "<p>Write an anonymous function that cubes the arguments passed in and assign the anonymous function to a variable 'f'.</p>"
   ]
  },
  {
   "cell_type": "code",
   "execution_count": 13,
   "metadata": {},
   "outputs": [
    {
     "data": {
      "text/plain": [
       "27"
      ]
     },
     "execution_count": 13,
     "metadata": {},
     "output_type": "execute_result"
    }
   ],
   "source": [
    "cubed = lambda f: f**3\n",
    "\n",
    "cubed(3)"
   ]
  },
  {
   "cell_type": "markdown",
   "metadata": {},
   "source": [
    "## Map <br>\n",
    "<p>The map function allows you to iterate over an entire list while running a function on each item of the list. This is why the map function works well with lambda's, because it simplifies things and you write less lines of code.<br>The syntax for a map function is \"map(function to be used, list to be used)\"<br>However, you must be careful, as the map function returns a map object, not a list. To turn it into a list we use the list() type conversion.</p>"
   ]
  },
  {
   "cell_type": "markdown",
   "metadata": {},
   "source": [
    "#### Syntax"
   ]
  },
  {
   "cell_type": "code",
   "execution_count": 15,
   "metadata": {},
   "outputs": [
    {
     "name": "stdout",
     "output_type": "stream",
     "text": [
      "[2, 4, 6, 8, 10, 12, 14, 16, 16, 20, 22]\n",
      "[2, 4, 6, 8, 10, 12, 14, 16, 16, 20, 22]\n"
     ]
    }
   ],
   "source": [
    "# User defined function\n",
    "def double_num(num_list):\n",
    "    double_list = []\n",
    "    for num in num_list:\n",
    "        double_list.append(num * 2)\n",
    "    return double_list\n",
    "\n",
    "this_list = [1, 2, 3, 4, 5, 6, 7, 8, 8, 10, 11]\n",
    "print(double_num(this_list))\n",
    "\n",
    "# map(function, iterable)\n",
    "# will iterate over every item in the iterable and do the function of the iterable\n",
    "def double_single_num(num):\n",
    "    return 2 * num\n",
    "\n",
    "print(list(map(double_single_num, this_list)))\n"
   ]
  },
  {
   "cell_type": "markdown",
   "metadata": {},
   "source": [
    "#### Using Lambda's with Map"
   ]
  },
  {
   "cell_type": "code",
   "execution_count": 17,
   "metadata": {},
   "outputs": [
    {
     "name": "stdout",
     "output_type": "stream",
     "text": [
      "[2, 4, 6, 8, 10, 12, 14, 16, 16, 20, 22]\n"
     ]
    }
   ],
   "source": [
    "print(list(map(lambda num: num * 2, this_list)))"
   ]
  },
  {
   "cell_type": "markdown",
   "metadata": {},
   "source": [
    "#### In-Class Exercise #2 <br>\n",
    "<p>Use the map function to double each number and minus it by one in the list by using a lambda function</p>"
   ]
  },
  {
   "cell_type": "code",
   "execution_count": 18,
   "metadata": {},
   "outputs": [
    {
     "name": "stdout",
     "output_type": "stream",
     "text": [
      "[3, 11, 197, 3, 89, 111]\n"
     ]
    }
   ],
   "source": [
    "# [2,6,99,2,45,56]\n",
    "exercise_list = [2,6,99,2,45,56]\n",
    "print(list(map(lambda num: num * 2 - 1, exercise_list)))"
   ]
  },
  {
   "cell_type": "markdown",
   "metadata": {},
   "source": [
    "## Filter() <br>\n",
    "<p>Filter's are similar to the map function, where you're able to pass a function argument and a list argument and filter out something from the list based on the conditions passed. Similar to the map function, it returns a filter object, so you need to type convert it to a list()</p>"
   ]
  },
  {
   "cell_type": "markdown",
   "metadata": {},
   "source": [
    "#### Syntax"
   ]
  },
  {
   "cell_type": "code",
   "execution_count": 21,
   "metadata": {},
   "outputs": [
    {
     "name": "stdout",
     "output_type": "stream",
     "text": [
      "[1, 3, 5, 7, 9, 11]\n",
      "[1, 3, 5, 7, 9, 11]\n"
     ]
    }
   ],
   "source": [
    "# works very similar to map\n",
    "# will iterate over list and return True or False, if it's True, it will outputted in a new list\n",
    "\n",
    "# User defined function\n",
    "def odd_nums_only(list_nums):\n",
    "    only_odds = []\n",
    "    for nums in list_nums:\n",
    "        if nums % 2 != 0:\n",
    "            only_odds.append(nums)\n",
    "    return only_odds\n",
    "\n",
    "that_list = [1, 2, 3, 4, 5, 6, 7, 8, 9, 10, 11]\n",
    "print(odd_nums_only(that_list))\n",
    "\n",
    "# filter(function, iterable)\n",
    "def is_odd_num(num):\n",
    "    if num % 2 != 0:\n",
    "        return True\n",
    "    else:\n",
    "        return False\n",
    "\n",
    "print(list(filter(is_odd_num, that_list)))\n"
   ]
  },
  {
   "cell_type": "markdown",
   "metadata": {},
   "source": [
    "#### Using Lambda's with Filter()"
   ]
  },
  {
   "cell_type": "code",
   "execution_count": 23,
   "metadata": {},
   "outputs": [
    {
     "name": "stdout",
     "output_type": "stream",
     "text": [
      "[1, 3, 5, 7, 9, 11]\n"
     ]
    }
   ],
   "source": [
    "print(list(filter(lambda num: num % 2 != 0, that_list)))"
   ]
  },
  {
   "cell_type": "markdown",
   "metadata": {},
   "source": [
    "#### In-Class Exercise #3 <br>\n",
    "<p>Filter out all the numbers that are below the mean of the list.<br><b>Hint: Import the 'statistics' module</b></p>"
   ]
  },
  {
   "cell_type": "code",
   "execution_count": 33,
   "metadata": {},
   "outputs": [
    {
     "name": "stdout",
     "output_type": "stream",
     "text": [
      "35\n",
      "[2, 6, 2]\n"
     ]
    }
   ],
   "source": [
    "# [2,6,99,2,45,56]\n",
    "import statistics\n",
    "\n",
    "exercise_list2 = [2,6,99,2,45,56]\n",
    "# print(statistics.mean(exercise_list2))\n",
    "\n",
    "print(list(filter(lambda num: num < statistics.mean(exercise_list2) , exercise_list2)))\n",
    "\n",
    "# def mean(list_nums):\n",
    "#     mean_nums = sum(list_nums)/len(list_nums)\n",
    "#     less_than_mean = []\n",
    "#     for nums in list_nums:\n",
    "#         if nums < mean_nums:\n",
    "#             less_than_mean.append(nums)\n",
    "#     return less_than_mean\n",
    "\n",
    "# mean(exercise_list2)\n",
    "\n",
    "# print(help(statistics))"
   ]
  },
  {
   "cell_type": "markdown",
   "metadata": {},
   "source": [
    "### Zip()"
   ]
  },
  {
   "cell_type": "code",
   "execution_count": 37,
   "metadata": {},
   "outputs": [
    {
     "name": "stdout",
     "output_type": "stream",
     "text": [
      "[('Kobe', 'The Mamba', 'Bryant'), ('Michael', 'The Goat', 'Jordan'), ('Kevin', 'The Slim Reaper', 'Durant')]\n"
     ]
    }
   ],
   "source": [
    "# zip(*iterable)\n",
    "first_names = ['Kobe', 'Michael', 'Kevin']\n",
    "nicknames = ['The Mamba', 'The Goat', 'The Slim Reaper']\n",
    "last_names = ['Bryant', 'Jordan', 'Durant', 'Booker']\n",
    "\n",
    "print(list(zip(first_names, nicknames, last_names)))"
   ]
  },
  {
   "attachments": {},
   "cell_type": "markdown",
   "metadata": {},
   "source": [
    "## Reduce() <br>\n",
    "<p>Be very careful when using this function, as of Python 3 it's been moved to the 'functools' library and no longer is a built-in function.<br>The creator of Python himself, says to just use a for loop instead, because of the added complexity and inefficiency compared to a basic for loop.</p>"
   ]
  },
  {
   "cell_type": "markdown",
   "metadata": {},
   "source": [
    "#### Syntax"
   ]
  },
  {
   "cell_type": "code",
   "execution_count": 41,
   "metadata": {},
   "outputs": [
    {
     "name": "stdout",
     "output_type": "stream",
     "text": [
      "66\n",
      "66\n"
     ]
    }
   ],
   "source": [
    "# not recommended to use anymore\n",
    "from functools import reduce\n",
    "# user-defined function\n",
    "the_other_list = [1, 2, 3, 4, 5, 6, 7, 8, 9, 10, 11]\n",
    "def add_nums(nums_list):\n",
    "    total = 0\n",
    "    for num in nums_list:\n",
    "        total += num\n",
    "    return total\n",
    "\n",
    "print(add_nums(the_other_list))\n",
    "\n",
    "#reduce(function, iterable)\n",
    "def add_single_num(num1, num2):\n",
    "    return num1 + num2\n",
    "\n",
    "print(reduce(add_single_num, the_other_list))\n"
   ]
  },
  {
   "cell_type": "markdown",
   "metadata": {},
   "source": [
    "#### Using Lambda's with Reduce()"
   ]
  },
  {
   "cell_type": "code",
   "execution_count": 42,
   "metadata": {},
   "outputs": [
    {
     "name": "stdout",
     "output_type": "stream",
     "text": [
      "66\n"
     ]
    }
   ],
   "source": [
    "print(reduce(lambda num1, num2: num1 + num2, the_other_list))"
   ]
  },
  {
   "cell_type": "markdown",
   "metadata": {},
   "source": [
    "## Recursion <br>\n",
    "<p>Recursion means that a function is calling itself, so it contanstly executes until a base case is reached. It will then push the returning values back up the chain until the function is complete. A prime example of recursion is computing factorials... such that 5! (factorial) is 5*4*3*2*1 which equals 120.</p>"
   ]
  },
  {
   "cell_type": "markdown",
   "metadata": {},
   "source": [
    "#### Implementing a Base Case"
   ]
  },
  {
   "cell_type": "code",
   "execution_count": 45,
   "metadata": {},
   "outputs": [
    {
     "name": "stdout",
     "output_type": "stream",
     "text": [
      "Add_nums(5) = 5 add_nums(4)\n",
      "Add_nums(4) = 4 add_nums(3)\n",
      "Add_nums(3) = 3 add_nums(2)\n",
      "Add_nums(2) = 2 add_nums(1)\n",
      "Add_nums(1) = 1\n",
      "15\n"
     ]
    }
   ],
   "source": [
    "# kind of like a while loop, will run until condition is met\n",
    "# can cause an infinite loop, so be careful!\n",
    "\n",
    "def add_nums(num):\n",
    "# 5 + (4 + (3 + (2 + (1))))\n",
    "# base case\n",
    "    if num <= 1:\n",
    "        print(f\"Add_nums({num}) = {num}\")\n",
    "        return num\n",
    "    # recursive case\n",
    "    else:\n",
    "        print(f\"Add_nums({num}) = {num} add_nums({num - 1})\")\n",
    "        return num + add_nums(num - 1)\n",
    "        \n",
    "print(add_nums(5))\n"
   ]
  },
  {
   "cell_type": "markdown",
   "metadata": {},
   "source": [
    "#### Writing a Factorial Function"
   ]
  },
  {
   "cell_type": "code",
   "execution_count": 50,
   "metadata": {},
   "outputs": [
    {
     "name": "stdout",
     "output_type": "stream",
     "text": [
      "120\n"
     ]
    }
   ],
   "source": [
    "# factorial of 5 (factorial) is 5*4*3*2*1 which is 120\n",
    "def factorial_of(num):\n",
    "    if num <= 1:\n",
    "        return num\n",
    "    else:\n",
    "        return num * factorial_of(num - 1)\n",
    "\n",
    "print(factorial_of(5))"
   ]
  },
  {
   "cell_type": "markdown",
   "metadata": {},
   "source": [
    "#### In-Class Exercise #5 <br>\n",
    "<p>Write a recursive function that subtracts all numbers to the argument given.</p>"
   ]
  },
  {
   "cell_type": "code",
   "execution_count": 58,
   "metadata": {},
   "outputs": [
    {
     "name": "stdout",
     "output_type": "stream",
     "text": [
      "5\n"
     ]
    }
   ],
   "source": [
    "def subtract_nums(num):\n",
    "    if num <= 1:\n",
    "        return num\n",
    "    else:\n",
    "        return num - subtract_nums(num - 1)\n",
    "\n",
    "print(subtract_nums(10))"
   ]
  },
  {
   "cell_type": "markdown",
   "metadata": {},
   "source": [
    "## Generators <br>\n",
    "<p>Generators are a type of iterable, like lists or tuples. They do not allow indexing, but they can still be iterated through with for loops. They are created using functions and the yield statement.</p>"
   ]
  },
  {
   "cell_type": "markdown",
   "metadata": {},
   "source": [
    "#### Yield Keyword <br>\n",
    "<p>The yield keyword denotes a generator, it doesn't return so it won't leave the function and reset all variables in the function scope, instead it yields the number back to the caller.</p>"
   ]
  },
  {
   "cell_type": "code",
   "execution_count": 65,
   "metadata": {},
   "outputs": [
    {
     "name": "stdout",
     "output_type": "stream",
     "text": [
      "<function my_generator at 0x0000023451957D00>\n",
      "<generator object my_generator at 0x0000023451A11A10>\n",
      "0\n",
      "1\n",
      "2\n",
      "3\n",
      "4\n",
      "5\n",
      "6\n",
      "7\n",
      "8\n",
      "9\n"
     ]
    }
   ],
   "source": [
    "# User defined Generator\n",
    "def my_generator():\n",
    "    num = 0\n",
    "    while True:\n",
    "        # yield allows us to do something without ending the function \n",
    "        # if you use the yield keyword in your function, it turns into a generator\n",
    "        # yield pauses and saves the state\n",
    "        # kind of like a checkpoint\n",
    "        yield num # produces something, then stays where it's at\n",
    "        num += 1\n",
    "print(my_generator)\n",
    "\n",
    "# Saving our generator state to a variable \n",
    "generate = my_generator()\n",
    "print(generate)\n",
    "\n",
    "# next() returns next item in a iterator\n",
    "# print(next(generate))\n",
    "# print(next(generate))\n",
    "# print(next(generate))\n",
    "\n",
    "for i in range(10):\n",
    "    print(next(generate))"
   ]
  },
  {
   "cell_type": "markdown",
   "metadata": {},
   "source": [
    "#### In-Class Exercise #6 <br>\n",
    "<p>Create a generator that takes a number argument and yields that number squared, then prints each number squared until zero is reached.</p>"
   ]
  },
  {
   "cell_type": "code",
   "execution_count": 87,
   "metadata": {},
   "outputs": [
    {
     "name": "stdout",
     "output_type": "stream",
     "text": [
      "100\n",
      "81\n",
      "64\n",
      "49\n",
      "36\n",
      "25\n",
      "16\n",
      "9\n",
      "4\n",
      "1\n",
      "0\n"
     ]
    }
   ],
   "source": [
    "def my_generator(num):\n",
    "    while num >= 0:\n",
    "        yield num ** 2\n",
    "        num -= 1 \n",
    "\n",
    "generate = my_generator(10)\n",
    "for i in range(11):\n",
    "    print(next(generate))\n",
    "# print(next(generate))\n",
    "# print(next(generate))\n",
    "# print(next(generate))\n",
    "# print(next(generate))\n",
    "# print(next(generate))\n",
    "# print(next(generate))\n",
    "# print(next(generate))\n",
    "# print(next(generate))\n",
    "# print(next(generate))\n",
    "# print(next(generate))       \n",
    "# print(next(generate))       \n"
   ]
  },
  {
   "cell_type": "markdown",
   "metadata": {},
   "source": [
    "# Exercises"
   ]
  },
  {
   "cell_type": "markdown",
   "metadata": {},
   "source": [
    "### Exercise #1 <br>\n",
    "<p>Filter out all of the empty strings from the list below</p>\n",
    "\n",
    "`Output: ['Argentina', 'San Diego', 'Boston', 'New York']`"
   ]
  },
  {
   "cell_type": "code",
   "execution_count": 110,
   "metadata": {},
   "outputs": [
    {
     "name": "stdout",
     "output_type": "stream",
     "text": [
      "['Argentina', 'San Diego', 'Boston', 'New York']\n"
     ]
    }
   ],
   "source": [
    "# works very similar to map\n",
    "# will iterate over list and return True or False, if it's True, it will outputted in a new list\n",
    "\n",
    "places = [\" \",\"Argentina\", \" \", \"San Diego\",\"\",\"  \",\"\",\"Boston\",\"New York\"]\n",
    "\n",
    "def is_spaces(str):\n",
    "    # checks if the string at 0 index starts with a character between a-z with .isalpha()\n",
    "    if str[:1].isalpha():\n",
    "        return True\n",
    "\n",
    "# loop through places list and filter with is_spaces function\n",
    "print(list(filter(is_spaces, places)))"
   ]
  },
  {
   "cell_type": "markdown",
   "metadata": {},
   "source": [
    "### Exercise #2 <br>\n",
    "<p>Write an anonymous function that sorts this list by the last name...<br><b>Hint: Use the \".sort()\" method and access the key\"</b></p>\n",
    "\n",
    "`Output: ['Victor aNisimov', 'Gary A.J. Bernstein', 'Joel Carter', 'Andrew P. Garfield', 'David hassELHOFF']`"
   ]
  },
  {
   "cell_type": "code",
   "execution_count": 129,
   "metadata": {},
   "outputs": [
    {
     "name": "stdout",
     "output_type": "stream",
     "text": [
      "['Victor aNisimov', 'Gary A.J. Bernstein', 'Joel Carter', 'Andrew P. Garfield', 'David hassELHOFF']\n"
     ]
    }
   ],
   "source": [
    "author = [\"Joel Carter\", \"Victor aNisimov\", \"Andrew P. Garfield\",\"David hassELHOFF\",\"Gary A.J. Bernstein\"]\n",
    "\n",
    "# grab the list 'author', sort existing list, use key because it's an argument for sort(), use as a parameter to specify the lambda function for sorting purposes,\n",
    "# use name as lambda param, split list, -1 grabs the last string in the split, .lower() recognizes and takes the lowercase letters\n",
    "author.sort(key = lambda name: name.split(\" \")[-1].lower())\n",
    "\n",
    "print(author)\n",
    "\n"
   ]
  },
  {
   "cell_type": "markdown",
   "metadata": {},
   "source": [
    "### Exercise #3 <br>\n",
    "<p>Convert the list below from Celsius to Farhenheit, using the map function with a lambda...</p>\n",
    "\n",
    "`Output: [('Nashua', 89.6), ('Boston', 53.6), ('Los Angelos', 111.2), ('Miami', 84.2)]\n",
    "`"
   ]
  },
  {
   "cell_type": "code",
   "execution_count": 138,
   "metadata": {},
   "outputs": [
    {
     "name": "stdout",
     "output_type": "stream",
     "text": [
      "[('Nashua', 89.6), ('Boston', 53.6), ('Los Angelos', 111.2), ('Miami', 84.2)]\n"
     ]
    }
   ],
   "source": [
    "# F = (9/5)*C + 32\n",
    "places = [('Nashua',32),(\"Boston\",12),(\"Los Angelos\",44),(\"Miami\",29)]\n",
    "\n",
    "# lambda function with c (for celcius) being a variable, parens for new tuple, c[0] accesses 0 index, or name from places list,\n",
    "# comma to separate tuple, equation for celcius to farenheight conversion, with c[1] accessing first index of original tuple list,\n",
    "# which would be the temp in celcius. Then accesses places list. Prints new_places_list\n",
    "new_places_list = list(map(lambda c: (c[0],  (9/5) * c[1]+ 32), places))\n",
    "print(new_places_list)\n",
    "\n",
    "\n"
   ]
  },
  {
   "attachments": {},
   "cell_type": "markdown",
   "metadata": {},
   "source": [
    "### Exercise #4 <br>\n",
    "<p>Write a recursion function to perform the fibonacci sequence up to the number passed in.</p>\n",
    "\n",
    "`Output for fib(5) => \n",
    "Iteration 0: 0\n",
    "Iteration 1: 1\n",
    "Iteration 2: 1\n",
    "Iteration 3: 2\n",
    "Iteration 4: 3\n",
    "Iteration 5: 5`"
   ]
  },
  {
   "cell_type": "code",
   "execution_count": 146,
   "metadata": {
    "scrolled": true
   },
   "outputs": [
    {
     "name": "stdout",
     "output_type": "stream",
     "text": [
      "5\n",
      "2\n",
      "55\n",
      "610\n"
     ]
    }
   ],
   "source": [
    "def fibonacci(fib):\n",
    "    if fib <= 1:\n",
    "        return fib\n",
    "    else:\n",
    "        # Adding the previous fib number by the second to last fib number \n",
    "        # Calculates last 2 values, recursively, runs through sequence again for each number until 1 is hit\n",
    "        # Creates a large tree of broken down numbers until 0 or 1\n",
    "        # For fibonacci(5), would run fibonacci(4) and fibonacci(3), and keep going due to recursion\n",
    "        # The adding of the two terms continues until all values in equation is resolved to actual values (0 or 1), \n",
    "        # with the total then returned to the code.\n",
    "        return (fibonacci(fib - 1) + fibonacci(fib - 2))\n",
    "\n",
    "# --------------------------------------------------------------------------------------------------------- #\n",
    "\n",
    "# Talking (commenting through) fibonacci(3):\n",
    "\n",
    "    # fibonacci(3) is broken down to: fibonacci(2) + fibonacci(1)\n",
    "    # fibonacci(2) is further broken down to: (fibonacci(1) + fibonacci(0)) + fibonacci(1) from above, since already broken down far enough\n",
    "\n",
    "# This makes end result look like:\n",
    "    # fibonacci(3) = (fibonacci(1) + fibonacci(0)) + fibonacci(1)\n",
    "    # Which, due to my fibonacci function, looks like:\n",
    "        # fibonacci(3) = 1 + 0 + 1 = 2\n",
    "\n",
    "# --------------------------------------------------------------------------------------------------------- #\n",
    "\n",
    "# Talking (commenting through) fibonacci(5):\n",
    "    # fibonacci(5) broken down to: fibonacci(4) + fibonacci(3)\n",
    "    # fibonacci(4) and fibonacci(3) broken down to: (fibonacci(3) + fibonacci(2)) + (fibonacci(2) + fibonacci(1))\n",
    "                                                    # fibonacci(3) broken down to: (fibonacci(2) + fibonacci(1))\n",
    "                                                    # fibonacci(2) broken down to: (fibonacci(1) + fibonacci(0))\n",
    "                                                    # fibonacci(2) broken down to: (fibonacci(1) + fibonacci(0))\n",
    "                                                    # fibonacci(1) already broken all the way down....\n",
    "                                                    \n",
    "                                                    # Now looks like:\n",
    "                                                    # fibonacci(2) + 1 + 0 + 1 + 0 + 1 + 1\n",
    "                                                    # last recursion, fibonacci(2) broken down to:\n",
    "                                                        # fibonacci(1) + fibonacci(0)\n",
    "                                                    \n",
    "                                                    # final equation looks like: \n",
    "                                                    # fibonacci(5) = 1 + 0 + 1 + 0 + 1 + 1 + 1 + 0 = 5\n",
    "                                                    # answer would be 5\n",
    "\n",
    "\n",
    "print(fibonacci(5))\n",
    "print(fibonacci(3))\n",
    "print(fibonacci(10))\n",
    "print(fibonacci(15))\n"
   ]
  }
 ],
 "metadata": {
  "kernelspec": {
   "display_name": "Python 3",
   "language": "python",
   "name": "python3"
  },
  "language_info": {
   "codemirror_mode": {
    "name": "ipython",
    "version": 3
   },
   "file_extension": ".py",
   "mimetype": "text/x-python",
   "name": "python",
   "nbconvert_exporter": "python",
   "pygments_lexer": "ipython3",
   "version": "3.9.6 (default, Aug  5 2022, 15:21:02) \n[Clang 14.0.0 (clang-1400.0.29.102)]"
  },
  "vscode": {
   "interpreter": {
    "hash": "31f2aee4e71d21fbe5cf8b01ff0e069b9275f58929596ceb00d14d90e3e16cd6"
   }
  }
 },
 "nbformat": 4,
 "nbformat_minor": 2
}
